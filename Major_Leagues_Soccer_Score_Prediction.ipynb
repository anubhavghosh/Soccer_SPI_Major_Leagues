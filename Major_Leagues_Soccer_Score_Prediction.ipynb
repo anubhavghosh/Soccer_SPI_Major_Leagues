{
 "cells": [
  {
   "cell_type": "markdown",
   "metadata": {},
   "source": [
    "# Brief Description\n",
    "\n",
    "In this notebook, we will predict scores based on the other parameters using Linear Regression\n"
   ]
  },
  {
   "cell_type": "markdown",
   "metadata": {},
   "source": [
    "# Import Libraries"
   ]
  },
  {
   "cell_type": "code",
   "execution_count": 42,
   "metadata": {},
   "outputs": [],
   "source": [
    "import numpy as np\n",
    "import matplotlib.pyplot as plt\n",
    "import pandas as pd \n",
    "import matplotlib \n",
    "%matplotlib inline\n",
    "from sklearn.model_selection import train_test_split"
   ]
  },
  {
   "cell_type": "markdown",
   "metadata": {},
   "source": [
    "# Import the data\n",
    "spi_matches.csv contains match-by-match SPI ratings and forecasts back to 2016."
   ]
  },
  {
   "cell_type": "code",
   "execution_count": 43,
   "metadata": {},
   "outputs": [
    {
     "data": {
      "text/html": [
       "<div>\n",
       "<style scoped>\n",
       "    .dataframe tbody tr th:only-of-type {\n",
       "        vertical-align: middle;\n",
       "    }\n",
       "\n",
       "    .dataframe tbody tr th {\n",
       "        vertical-align: top;\n",
       "    }\n",
       "\n",
       "    .dataframe thead th {\n",
       "        text-align: right;\n",
       "    }\n",
       "</style>\n",
       "<table border=\"1\" class=\"dataframe\">\n",
       "  <thead>\n",
       "    <tr style=\"text-align: right;\">\n",
       "      <th></th>\n",
       "      <th>date</th>\n",
       "      <th>league_id</th>\n",
       "      <th>league</th>\n",
       "      <th>team1</th>\n",
       "      <th>team2</th>\n",
       "      <th>spi1</th>\n",
       "      <th>spi2</th>\n",
       "      <th>prob1</th>\n",
       "      <th>prob2</th>\n",
       "      <th>probtie</th>\n",
       "      <th>...</th>\n",
       "      <th>importance1</th>\n",
       "      <th>importance2</th>\n",
       "      <th>score1</th>\n",
       "      <th>score2</th>\n",
       "      <th>xg1</th>\n",
       "      <th>xg2</th>\n",
       "      <th>nsxg1</th>\n",
       "      <th>nsxg2</th>\n",
       "      <th>adj_score1</th>\n",
       "      <th>adj_score2</th>\n",
       "    </tr>\n",
       "  </thead>\n",
       "  <tbody>\n",
       "    <tr>\n",
       "      <th>0</th>\n",
       "      <td>2016-08-12</td>\n",
       "      <td>1843</td>\n",
       "      <td>French Ligue 1</td>\n",
       "      <td>Bastia</td>\n",
       "      <td>Paris Saint-Germain</td>\n",
       "      <td>51.16</td>\n",
       "      <td>85.68</td>\n",
       "      <td>0.0463</td>\n",
       "      <td>0.8380</td>\n",
       "      <td>0.1157</td>\n",
       "      <td>...</td>\n",
       "      <td>32.4</td>\n",
       "      <td>67.7</td>\n",
       "      <td>0.0</td>\n",
       "      <td>1.0</td>\n",
       "      <td>0.97</td>\n",
       "      <td>0.63</td>\n",
       "      <td>0.43</td>\n",
       "      <td>0.45</td>\n",
       "      <td>0.00</td>\n",
       "      <td>1.05</td>\n",
       "    </tr>\n",
       "    <tr>\n",
       "      <th>1</th>\n",
       "      <td>2016-08-12</td>\n",
       "      <td>1843</td>\n",
       "      <td>French Ligue 1</td>\n",
       "      <td>AS Monaco</td>\n",
       "      <td>Guingamp</td>\n",
       "      <td>68.85</td>\n",
       "      <td>56.48</td>\n",
       "      <td>0.5714</td>\n",
       "      <td>0.1669</td>\n",
       "      <td>0.2617</td>\n",
       "      <td>...</td>\n",
       "      <td>53.7</td>\n",
       "      <td>22.9</td>\n",
       "      <td>2.0</td>\n",
       "      <td>2.0</td>\n",
       "      <td>2.45</td>\n",
       "      <td>0.77</td>\n",
       "      <td>1.75</td>\n",
       "      <td>0.42</td>\n",
       "      <td>2.10</td>\n",
       "      <td>2.10</td>\n",
       "    </tr>\n",
       "    <tr>\n",
       "      <th>2</th>\n",
       "      <td>2016-08-13</td>\n",
       "      <td>2411</td>\n",
       "      <td>Barclays Premier League</td>\n",
       "      <td>Hull City</td>\n",
       "      <td>Leicester City</td>\n",
       "      <td>53.57</td>\n",
       "      <td>66.81</td>\n",
       "      <td>0.3459</td>\n",
       "      <td>0.3621</td>\n",
       "      <td>0.2921</td>\n",
       "      <td>...</td>\n",
       "      <td>38.1</td>\n",
       "      <td>22.2</td>\n",
       "      <td>2.0</td>\n",
       "      <td>1.0</td>\n",
       "      <td>0.85</td>\n",
       "      <td>2.77</td>\n",
       "      <td>0.17</td>\n",
       "      <td>1.25</td>\n",
       "      <td>2.10</td>\n",
       "      <td>1.05</td>\n",
       "    </tr>\n",
       "    <tr>\n",
       "      <th>3</th>\n",
       "      <td>2016-08-13</td>\n",
       "      <td>2411</td>\n",
       "      <td>Barclays Premier League</td>\n",
       "      <td>Crystal Palace</td>\n",
       "      <td>West Bromwich Albion</td>\n",
       "      <td>55.19</td>\n",
       "      <td>58.66</td>\n",
       "      <td>0.4214</td>\n",
       "      <td>0.2939</td>\n",
       "      <td>0.2847</td>\n",
       "      <td>...</td>\n",
       "      <td>43.6</td>\n",
       "      <td>34.6</td>\n",
       "      <td>0.0</td>\n",
       "      <td>1.0</td>\n",
       "      <td>1.11</td>\n",
       "      <td>0.68</td>\n",
       "      <td>0.84</td>\n",
       "      <td>1.60</td>\n",
       "      <td>0.00</td>\n",
       "      <td>1.05</td>\n",
       "    </tr>\n",
       "    <tr>\n",
       "      <th>4</th>\n",
       "      <td>2016-08-13</td>\n",
       "      <td>2411</td>\n",
       "      <td>Barclays Premier League</td>\n",
       "      <td>Everton</td>\n",
       "      <td>Tottenham Hotspur</td>\n",
       "      <td>68.02</td>\n",
       "      <td>73.25</td>\n",
       "      <td>0.3910</td>\n",
       "      <td>0.3401</td>\n",
       "      <td>0.2689</td>\n",
       "      <td>...</td>\n",
       "      <td>31.9</td>\n",
       "      <td>48.0</td>\n",
       "      <td>1.0</td>\n",
       "      <td>1.0</td>\n",
       "      <td>0.73</td>\n",
       "      <td>1.11</td>\n",
       "      <td>0.88</td>\n",
       "      <td>1.81</td>\n",
       "      <td>1.05</td>\n",
       "      <td>1.05</td>\n",
       "    </tr>\n",
       "  </tbody>\n",
       "</table>\n",
       "<p>5 rows × 22 columns</p>\n",
       "</div>"
      ],
      "text/plain": [
       "         date  league_id                   league           team1  \\\n",
       "0  2016-08-12       1843           French Ligue 1          Bastia   \n",
       "1  2016-08-12       1843           French Ligue 1       AS Monaco   \n",
       "2  2016-08-13       2411  Barclays Premier League       Hull City   \n",
       "3  2016-08-13       2411  Barclays Premier League  Crystal Palace   \n",
       "4  2016-08-13       2411  Barclays Premier League         Everton   \n",
       "\n",
       "                  team2   spi1   spi2   prob1   prob2  probtie  ...  \\\n",
       "0   Paris Saint-Germain  51.16  85.68  0.0463  0.8380   0.1157  ...   \n",
       "1              Guingamp  68.85  56.48  0.5714  0.1669   0.2617  ...   \n",
       "2        Leicester City  53.57  66.81  0.3459  0.3621   0.2921  ...   \n",
       "3  West Bromwich Albion  55.19  58.66  0.4214  0.2939   0.2847  ...   \n",
       "4     Tottenham Hotspur  68.02  73.25  0.3910  0.3401   0.2689  ...   \n",
       "\n",
       "   importance1  importance2  score1  score2   xg1   xg2  nsxg1  nsxg2  \\\n",
       "0         32.4         67.7     0.0     1.0  0.97  0.63   0.43   0.45   \n",
       "1         53.7         22.9     2.0     2.0  2.45  0.77   1.75   0.42   \n",
       "2         38.1         22.2     2.0     1.0  0.85  2.77   0.17   1.25   \n",
       "3         43.6         34.6     0.0     1.0  1.11  0.68   0.84   1.60   \n",
       "4         31.9         48.0     1.0     1.0  0.73  1.11   0.88   1.81   \n",
       "\n",
       "   adj_score1  adj_score2  \n",
       "0        0.00        1.05  \n",
       "1        2.10        2.10  \n",
       "2        2.10        1.05  \n",
       "3        0.00        1.05  \n",
       "4        1.05        1.05  \n",
       "\n",
       "[5 rows x 22 columns]"
      ]
     },
     "execution_count": 43,
     "metadata": {},
     "output_type": "execute_result"
    }
   ],
   "source": [
    "#Source of Data: [https://projects.fivethirtyeight.com/soccer-api/club/spi_matches.csv]\n",
    "df_unrefined = pd.read_csv('spi_matches.csv')\n",
    "df_unrefined.head()"
   ]
  },
  {
   "cell_type": "markdown",
   "metadata": {},
   "source": [
    "# Remove unwanted features"
   ]
  },
  {
   "cell_type": "code",
   "execution_count": 44,
   "metadata": {},
   "outputs": [
    {
     "data": {
      "text/html": [
       "<div>\n",
       "<style scoped>\n",
       "    .dataframe tbody tr th:only-of-type {\n",
       "        vertical-align: middle;\n",
       "    }\n",
       "\n",
       "    .dataframe tbody tr th {\n",
       "        vertical-align: top;\n",
       "    }\n",
       "\n",
       "    .dataframe thead th {\n",
       "        text-align: right;\n",
       "    }\n",
       "</style>\n",
       "<table border=\"1\" class=\"dataframe\">\n",
       "  <thead>\n",
       "    <tr style=\"text-align: right;\">\n",
       "      <th></th>\n",
       "      <th>spi1</th>\n",
       "      <th>spi2</th>\n",
       "      <th>prob1</th>\n",
       "      <th>prob2</th>\n",
       "      <th>probtie</th>\n",
       "      <th>proj_score1</th>\n",
       "      <th>proj_score2</th>\n",
       "      <th>importance1</th>\n",
       "      <th>importance2</th>\n",
       "      <th>score1</th>\n",
       "      <th>score2</th>\n",
       "      <th>xg1</th>\n",
       "      <th>xg2</th>\n",
       "      <th>nsxg1</th>\n",
       "      <th>nsxg2</th>\n",
       "      <th>adj_score1</th>\n",
       "      <th>adj_score2</th>\n",
       "    </tr>\n",
       "  </thead>\n",
       "  <tbody>\n",
       "    <tr>\n",
       "      <th>0</th>\n",
       "      <td>51.16</td>\n",
       "      <td>85.68</td>\n",
       "      <td>0.0463</td>\n",
       "      <td>0.8380</td>\n",
       "      <td>0.1157</td>\n",
       "      <td>0.91</td>\n",
       "      <td>2.36</td>\n",
       "      <td>32.4</td>\n",
       "      <td>67.7</td>\n",
       "      <td>0.0</td>\n",
       "      <td>1.0</td>\n",
       "      <td>0.97</td>\n",
       "      <td>0.63</td>\n",
       "      <td>0.43</td>\n",
       "      <td>0.45</td>\n",
       "      <td>0.00</td>\n",
       "      <td>1.05</td>\n",
       "    </tr>\n",
       "    <tr>\n",
       "      <th>1</th>\n",
       "      <td>68.85</td>\n",
       "      <td>56.48</td>\n",
       "      <td>0.5714</td>\n",
       "      <td>0.1669</td>\n",
       "      <td>0.2617</td>\n",
       "      <td>1.82</td>\n",
       "      <td>0.86</td>\n",
       "      <td>53.7</td>\n",
       "      <td>22.9</td>\n",
       "      <td>2.0</td>\n",
       "      <td>2.0</td>\n",
       "      <td>2.45</td>\n",
       "      <td>0.77</td>\n",
       "      <td>1.75</td>\n",
       "      <td>0.42</td>\n",
       "      <td>2.10</td>\n",
       "      <td>2.10</td>\n",
       "    </tr>\n",
       "    <tr>\n",
       "      <th>2</th>\n",
       "      <td>53.57</td>\n",
       "      <td>66.81</td>\n",
       "      <td>0.3459</td>\n",
       "      <td>0.3621</td>\n",
       "      <td>0.2921</td>\n",
       "      <td>1.16</td>\n",
       "      <td>1.24</td>\n",
       "      <td>38.1</td>\n",
       "      <td>22.2</td>\n",
       "      <td>2.0</td>\n",
       "      <td>1.0</td>\n",
       "      <td>0.85</td>\n",
       "      <td>2.77</td>\n",
       "      <td>0.17</td>\n",
       "      <td>1.25</td>\n",
       "      <td>2.10</td>\n",
       "      <td>1.05</td>\n",
       "    </tr>\n",
       "    <tr>\n",
       "      <th>3</th>\n",
       "      <td>55.19</td>\n",
       "      <td>58.66</td>\n",
       "      <td>0.4214</td>\n",
       "      <td>0.2939</td>\n",
       "      <td>0.2847</td>\n",
       "      <td>1.35</td>\n",
       "      <td>1.14</td>\n",
       "      <td>43.6</td>\n",
       "      <td>34.6</td>\n",
       "      <td>0.0</td>\n",
       "      <td>1.0</td>\n",
       "      <td>1.11</td>\n",
       "      <td>0.68</td>\n",
       "      <td>0.84</td>\n",
       "      <td>1.60</td>\n",
       "      <td>0.00</td>\n",
       "      <td>1.05</td>\n",
       "    </tr>\n",
       "    <tr>\n",
       "      <th>4</th>\n",
       "      <td>68.02</td>\n",
       "      <td>73.25</td>\n",
       "      <td>0.3910</td>\n",
       "      <td>0.3401</td>\n",
       "      <td>0.2689</td>\n",
       "      <td>1.47</td>\n",
       "      <td>1.38</td>\n",
       "      <td>31.9</td>\n",
       "      <td>48.0</td>\n",
       "      <td>1.0</td>\n",
       "      <td>1.0</td>\n",
       "      <td>0.73</td>\n",
       "      <td>1.11</td>\n",
       "      <td>0.88</td>\n",
       "      <td>1.81</td>\n",
       "      <td>1.05</td>\n",
       "      <td>1.05</td>\n",
       "    </tr>\n",
       "  </tbody>\n",
       "</table>\n",
       "</div>"
      ],
      "text/plain": [
       "    spi1   spi2   prob1   prob2  probtie  proj_score1  proj_score2  \\\n",
       "0  51.16  85.68  0.0463  0.8380   0.1157         0.91         2.36   \n",
       "1  68.85  56.48  0.5714  0.1669   0.2617         1.82         0.86   \n",
       "2  53.57  66.81  0.3459  0.3621   0.2921         1.16         1.24   \n",
       "3  55.19  58.66  0.4214  0.2939   0.2847         1.35         1.14   \n",
       "4  68.02  73.25  0.3910  0.3401   0.2689         1.47         1.38   \n",
       "\n",
       "   importance1  importance2  score1  score2   xg1   xg2  nsxg1  nsxg2  \\\n",
       "0         32.4         67.7     0.0     1.0  0.97  0.63   0.43   0.45   \n",
       "1         53.7         22.9     2.0     2.0  2.45  0.77   1.75   0.42   \n",
       "2         38.1         22.2     2.0     1.0  0.85  2.77   0.17   1.25   \n",
       "3         43.6         34.6     0.0     1.0  1.11  0.68   0.84   1.60   \n",
       "4         31.9         48.0     1.0     1.0  0.73  1.11   0.88   1.81   \n",
       "\n",
       "   adj_score1  adj_score2  \n",
       "0        0.00        1.05  \n",
       "1        2.10        2.10  \n",
       "2        2.10        1.05  \n",
       "3        0.00        1.05  \n",
       "4        1.05        1.05  "
      ]
     },
     "execution_count": 44,
     "metadata": {},
     "output_type": "execute_result"
    }
   ],
   "source": [
    "df = df_unrefined.drop(columns=['date','league_id','league','team1','team2'])\n",
    "df.head()"
   ]
  },
  {
   "cell_type": "markdown",
   "metadata": {},
   "source": [
    "There are 32292 records in the dataset. Let's see how many of them contain NaN"
   ]
  },
  {
   "cell_type": "code",
   "execution_count": 45,
   "metadata": {},
   "outputs": [
    {
     "data": {
      "text/plain": [
       "spi1               0\n",
       "spi2               0\n",
       "prob1              0\n",
       "prob2              0\n",
       "probtie            0\n",
       "proj_score1        0\n",
       "proj_score2        0\n",
       "importance1     8385\n",
       "importance2     8385\n",
       "score1          4113\n",
       "score2          4113\n",
       "xg1            16835\n",
       "xg2            16835\n",
       "nsxg1          16835\n",
       "nsxg2          16835\n",
       "adj_score1     16835\n",
       "adj_score2     16835\n",
       "dtype: int64"
      ]
     },
     "execution_count": 45,
     "metadata": {},
     "output_type": "execute_result"
    }
   ],
   "source": [
    "df.isna().sum()"
   ]
  },
  {
   "cell_type": "code",
   "execution_count": 46,
   "metadata": {},
   "outputs": [
    {
     "data": {
      "text/html": [
       "<div>\n",
       "<style scoped>\n",
       "    .dataframe tbody tr th:only-of-type {\n",
       "        vertical-align: middle;\n",
       "    }\n",
       "\n",
       "    .dataframe tbody tr th {\n",
       "        vertical-align: top;\n",
       "    }\n",
       "\n",
       "    .dataframe thead th {\n",
       "        text-align: right;\n",
       "    }\n",
       "</style>\n",
       "<table border=\"1\" class=\"dataframe\">\n",
       "  <thead>\n",
       "    <tr style=\"text-align: right;\">\n",
       "      <th></th>\n",
       "      <th>spi1</th>\n",
       "      <th>spi2</th>\n",
       "      <th>prob1</th>\n",
       "      <th>prob2</th>\n",
       "      <th>probtie</th>\n",
       "      <th>proj_score1</th>\n",
       "      <th>proj_score2</th>\n",
       "      <th>importance1</th>\n",
       "      <th>importance2</th>\n",
       "      <th>score1</th>\n",
       "      <th>score2</th>\n",
       "      <th>xg1</th>\n",
       "      <th>xg2</th>\n",
       "      <th>nsxg1</th>\n",
       "      <th>nsxg2</th>\n",
       "      <th>adj_score1</th>\n",
       "      <th>adj_score2</th>\n",
       "    </tr>\n",
       "  </thead>\n",
       "  <tbody>\n",
       "    <tr>\n",
       "      <th>0</th>\n",
       "      <td>51.16</td>\n",
       "      <td>85.68</td>\n",
       "      <td>0.0463</td>\n",
       "      <td>0.8380</td>\n",
       "      <td>0.1157</td>\n",
       "      <td>0.91</td>\n",
       "      <td>2.36</td>\n",
       "      <td>32.4</td>\n",
       "      <td>67.7</td>\n",
       "      <td>0.0</td>\n",
       "      <td>1.0</td>\n",
       "      <td>0.97</td>\n",
       "      <td>0.63</td>\n",
       "      <td>0.43</td>\n",
       "      <td>0.45</td>\n",
       "      <td>0.00</td>\n",
       "      <td>1.05</td>\n",
       "    </tr>\n",
       "    <tr>\n",
       "      <th>1</th>\n",
       "      <td>68.85</td>\n",
       "      <td>56.48</td>\n",
       "      <td>0.5714</td>\n",
       "      <td>0.1669</td>\n",
       "      <td>0.2617</td>\n",
       "      <td>1.82</td>\n",
       "      <td>0.86</td>\n",
       "      <td>53.7</td>\n",
       "      <td>22.9</td>\n",
       "      <td>2.0</td>\n",
       "      <td>2.0</td>\n",
       "      <td>2.45</td>\n",
       "      <td>0.77</td>\n",
       "      <td>1.75</td>\n",
       "      <td>0.42</td>\n",
       "      <td>2.10</td>\n",
       "      <td>2.10</td>\n",
       "    </tr>\n",
       "    <tr>\n",
       "      <th>2</th>\n",
       "      <td>53.57</td>\n",
       "      <td>66.81</td>\n",
       "      <td>0.3459</td>\n",
       "      <td>0.3621</td>\n",
       "      <td>0.2921</td>\n",
       "      <td>1.16</td>\n",
       "      <td>1.24</td>\n",
       "      <td>38.1</td>\n",
       "      <td>22.2</td>\n",
       "      <td>2.0</td>\n",
       "      <td>1.0</td>\n",
       "      <td>0.85</td>\n",
       "      <td>2.77</td>\n",
       "      <td>0.17</td>\n",
       "      <td>1.25</td>\n",
       "      <td>2.10</td>\n",
       "      <td>1.05</td>\n",
       "    </tr>\n",
       "    <tr>\n",
       "      <th>3</th>\n",
       "      <td>55.19</td>\n",
       "      <td>58.66</td>\n",
       "      <td>0.4214</td>\n",
       "      <td>0.2939</td>\n",
       "      <td>0.2847</td>\n",
       "      <td>1.35</td>\n",
       "      <td>1.14</td>\n",
       "      <td>43.6</td>\n",
       "      <td>34.6</td>\n",
       "      <td>0.0</td>\n",
       "      <td>1.0</td>\n",
       "      <td>1.11</td>\n",
       "      <td>0.68</td>\n",
       "      <td>0.84</td>\n",
       "      <td>1.60</td>\n",
       "      <td>0.00</td>\n",
       "      <td>1.05</td>\n",
       "    </tr>\n",
       "    <tr>\n",
       "      <th>4</th>\n",
       "      <td>68.02</td>\n",
       "      <td>73.25</td>\n",
       "      <td>0.3910</td>\n",
       "      <td>0.3401</td>\n",
       "      <td>0.2689</td>\n",
       "      <td>1.47</td>\n",
       "      <td>1.38</td>\n",
       "      <td>31.9</td>\n",
       "      <td>48.0</td>\n",
       "      <td>1.0</td>\n",
       "      <td>1.0</td>\n",
       "      <td>0.73</td>\n",
       "      <td>1.11</td>\n",
       "      <td>0.88</td>\n",
       "      <td>1.81</td>\n",
       "      <td>1.05</td>\n",
       "      <td>1.05</td>\n",
       "    </tr>\n",
       "  </tbody>\n",
       "</table>\n",
       "</div>"
      ],
      "text/plain": [
       "    spi1   spi2   prob1   prob2  probtie  proj_score1  proj_score2  \\\n",
       "0  51.16  85.68  0.0463  0.8380   0.1157         0.91         2.36   \n",
       "1  68.85  56.48  0.5714  0.1669   0.2617         1.82         0.86   \n",
       "2  53.57  66.81  0.3459  0.3621   0.2921         1.16         1.24   \n",
       "3  55.19  58.66  0.4214  0.2939   0.2847         1.35         1.14   \n",
       "4  68.02  73.25  0.3910  0.3401   0.2689         1.47         1.38   \n",
       "\n",
       "   importance1  importance2  score1  score2   xg1   xg2  nsxg1  nsxg2  \\\n",
       "0         32.4         67.7     0.0     1.0  0.97  0.63   0.43   0.45   \n",
       "1         53.7         22.9     2.0     2.0  2.45  0.77   1.75   0.42   \n",
       "2         38.1         22.2     2.0     1.0  0.85  2.77   0.17   1.25   \n",
       "3         43.6         34.6     0.0     1.0  1.11  0.68   0.84   1.60   \n",
       "4         31.9         48.0     1.0     1.0  0.73  1.11   0.88   1.81   \n",
       "\n",
       "   adj_score1  adj_score2  \n",
       "0        0.00        1.05  \n",
       "1        2.10        2.10  \n",
       "2        2.10        1.05  \n",
       "3        0.00        1.05  \n",
       "4        1.05        1.05  "
      ]
     },
     "execution_count": 46,
     "metadata": {},
     "output_type": "execute_result"
    }
   ],
   "source": [
    "df=df.dropna()\n",
    "df.head()"
   ]
  },
  {
   "cell_type": "code",
   "execution_count": 47,
   "metadata": {},
   "outputs": [
    {
     "data": {
      "text/plain": [
       "spi1           0\n",
       "spi2           0\n",
       "prob1          0\n",
       "prob2          0\n",
       "probtie        0\n",
       "proj_score1    0\n",
       "proj_score2    0\n",
       "importance1    0\n",
       "importance2    0\n",
       "score1         0\n",
       "score2         0\n",
       "xg1            0\n",
       "xg2            0\n",
       "nsxg1          0\n",
       "nsxg2          0\n",
       "adj_score1     0\n",
       "adj_score2     0\n",
       "dtype: int64"
      ]
     },
     "execution_count": 47,
     "metadata": {},
     "output_type": "execute_result"
    }
   ],
   "source": [
    "df.isna().sum()"
   ]
  },
  {
   "cell_type": "code",
   "execution_count": 48,
   "metadata": {},
   "outputs": [],
   "source": [
    "dataframe_minus_score = df.drop(columns=['score1','score2'])"
   ]
  },
  {
   "cell_type": "markdown",
   "metadata": {},
   "source": [
    "## Split the test and train data"
   ]
  },
  {
   "cell_type": "code",
   "execution_count": 49,
   "metadata": {},
   "outputs": [],
   "source": [
    "T1X_train, T1X_test, T1Y_train, T1Y_test = train_test_split(dataframe_minus_score, df.score1, random_state=1)"
   ]
  },
  {
   "cell_type": "code",
   "execution_count": 50,
   "metadata": {},
   "outputs": [
    {
     "data": {
      "text/plain": [
       "LinearRegression(copy_X=True, fit_intercept=True, n_jobs=None,\n",
       "         normalize=False)"
      ]
     },
     "execution_count": 50,
     "metadata": {},
     "output_type": "execute_result"
    }
   ],
   "source": [
    "from sklearn.linear_model import LinearRegression\n",
    "T1_LR = LinearRegression()\n",
    "T1_LR.fit(T1X_train,T1Y_train)"
   ]
  },
  {
   "cell_type": "code",
   "execution_count": 51,
   "metadata": {},
   "outputs": [],
   "source": [
    "T1Predict_train = T1_LR.predict(T1X_train)\n",
    "T1Predict_test = T1_LR.predict(T1X_test)"
   ]
  },
  {
   "cell_type": "markdown",
   "metadata": {},
   "source": [
    "## Print Linear Regression Mean Square Error for Team 1"
   ]
  },
  {
   "cell_type": "code",
   "execution_count": 52,
   "metadata": {},
   "outputs": [
    {
     "name": "stdout",
     "output_type": "stream",
     "text": [
      "0.028\n",
      "0.03\n"
     ]
    }
   ],
   "source": [
    "LRTrainT1_Error = round(np.mean(np.subtract(T1Y_train.values,T1Predict_train) ** 2),3)\n",
    "print(LRTrainT1_Error)\n",
    "LRTestT1_Error = round(np.mean(np.subtract(T1Y_test.values,T1Predict_test) ** 2),3)\n",
    "print(LRTestT1_Error)"
   ]
  },
  {
   "cell_type": "code",
   "execution_count": 53,
   "metadata": {},
   "outputs": [
    {
     "data": {
      "text/plain": [
       "<matplotlib.collections.PathCollection at 0x1a1a2875f8>"
      ]
     },
     "execution_count": 53,
     "metadata": {},
     "output_type": "execute_result"
    },
    {
     "data": {
      "image/png": "[encoded data removed]",
      "text/plain": [
       "<Figure size 432x288 with 1 Axes>"
      ]
     },
     "metadata": {
      "needs_background": "light"
     },
     "output_type": "display_data"
    }
   ],
   "source": [
    "plt.title('Residual Plot for Team 1 - Train:Green and Test:Yellow')\n",
    "plt.scatter(T1Predict_train,np.subtract(T1Predict_train,T1Y_train.values),c='g')\n",
    "plt.scatter(T1Predict_test,np.subtract(T1Predict_test,T1Y_test.values),c='y')"
   ]
  },
  {
   "cell_type": "markdown",
   "metadata": {},
   "source": [
    "## Print Linear Regression Mean Square Error for Team 2"
   ]
  },
  {
   "cell_type": "code",
   "execution_count": 54,
   "metadata": {},
   "outputs": [
    {
     "data": {
      "text/plain": [
       "LinearRegression(copy_X=True, fit_intercept=True, n_jobs=None,\n",
       "         normalize=False)"
      ]
     },
     "execution_count": 54,
     "metadata": {},
     "output_type": "execute_result"
    }
   ],
   "source": [
    "T2X_train, T2X_test, T2Y_train, T2Y_test = train_test_split(dataframe_minus_score, df.score2, random_state=1)\n",
    "T2_LR = LinearRegression()\n",
    "T2_LR.fit(T2X_train,T2Y_train)"
   ]
  },
  {
   "cell_type": "code",
   "execution_count": 55,
   "metadata": {},
   "outputs": [
    {
     "name": "stdout",
     "output_type": "stream",
     "text": [
      "0.017\n",
      "0.018\n"
     ]
    }
   ],
   "source": [
    "T2Predict_train = T2_LR.predict(T2X_train)\n",
    "T2Predict_test = T2_LR.predict(T2X_test)\n",
    "LRTrainT2_Error = round(np.mean(np.subtract(T2Y_train.values,T2Predict_train) ** 2),3)\n",
    "print(LRTrainT2_Error)\n",
    "LRTestT2_Error = round(np.mean(np.subtract(T2Y_test.values,T2Predict_test) ** 2),3)\n",
    "print(LRTestT2_Error)"
   ]
  },
  {
   "cell_type": "markdown",
   "metadata": {},
   "source": [
    "# Residual Plot"
   ]
  },
  {
   "cell_type": "code",
   "execution_count": 56,
   "metadata": {},
   "outputs": [
    {
     "data": {
      "text/plain": [
       "<matplotlib.collections.PathCollection at 0x1a1a22f5f8>"
      ]
     },
     "execution_count": 56,
     "metadata": {},
     "output_type": "execute_result"
    },
    {
     "data": {
      "image/png": "[encoded data removed]",
      "text/plain": [
       "<Figure size 432x288 with 1 Axes>"
      ]
     },
     "metadata": {
      "needs_background": "light"
     },
     "output_type": "display_data"
    }
   ],
   "source": [
    "plt.title('Residual Plot for Team 2 - Train:Red and Test:Yellow')\n",
    "#plt.scatter(T2Y_train,np.subtract(T1Predict_train,T2Y_train.values),c='b')\n",
    "plt.scatter(T2Predict_train,np.subtract(T2Predict_train,T2Y_train.values),c='r')\n",
    "plt.scatter(T2Predict_test,np.subtract(T2Predict_test,T2Y_test.values),c='y')"
   ]
  },
  {
   "cell_type": "markdown",
   "metadata": {},
   "source": [
    "# Analysing the work done\n",
    "\n",
    "## SEEN DATA (Training Set)\n",
    "I have chosen a team( team 1) and summarized the actual score, predicted score, the error that came up with linear regression and the root mean square error too."
   ]
  },
  {
   "cell_type": "code",
   "execution_count": 57,
   "metadata": {},
   "outputs": [
    {
     "data": {
      "text/html": [
       "<div>\n",
       "<style scoped>\n",
       "    .dataframe tbody tr th:only-of-type {\n",
       "        vertical-align: middle;\n",
       "    }\n",
       "\n",
       "    .dataframe tbody tr th {\n",
       "        vertical-align: top;\n",
       "    }\n",
       "\n",
       "    .dataframe thead th {\n",
       "        text-align: right;\n",
       "    }\n",
       "</style>\n",
       "<table border=\"1\" class=\"dataframe\">\n",
       "  <thead>\n",
       "    <tr style=\"text-align: right;\">\n",
       "      <th></th>\n",
       "      <th>Actual_Score</th>\n",
       "      <th>Predicted_score</th>\n",
       "      <th>Error</th>\n",
       "      <th>RMS_Error</th>\n",
       "    </tr>\n",
       "  </thead>\n",
       "  <tbody>\n",
       "    <tr>\n",
       "      <th>15337</th>\n",
       "      <td>3.0</td>\n",
       "      <td>3.138893</td>\n",
       "      <td>0.138893</td>\n",
       "      <td>0.168435</td>\n",
       "    </tr>\n",
       "    <tr>\n",
       "      <th>8677</th>\n",
       "      <td>1.0</td>\n",
       "      <td>1.037737</td>\n",
       "      <td>0.037737</td>\n",
       "      <td>0.168435</td>\n",
       "    </tr>\n",
       "    <tr>\n",
       "      <th>11113</th>\n",
       "      <td>3.0</td>\n",
       "      <td>3.082295</td>\n",
       "      <td>0.082295</td>\n",
       "      <td>0.168435</td>\n",
       "    </tr>\n",
       "    <tr>\n",
       "      <th>8501</th>\n",
       "      <td>1.0</td>\n",
       "      <td>0.927809</td>\n",
       "      <td>0.072191</td>\n",
       "      <td>0.168435</td>\n",
       "    </tr>\n",
       "    <tr>\n",
       "      <th>18456</th>\n",
       "      <td>0.0</td>\n",
       "      <td>0.014899</td>\n",
       "      <td>0.014899</td>\n",
       "      <td>0.168435</td>\n",
       "    </tr>\n",
       "  </tbody>\n",
       "</table>\n",
       "</div>"
      ],
      "text/plain": [
       "       Actual_Score  Predicted_score     Error  RMS_Error\n",
       "15337           3.0         3.138893  0.138893   0.168435\n",
       "8677            1.0         1.037737  0.037737   0.168435\n",
       "11113           3.0         3.082295  0.082295   0.168435\n",
       "8501            1.0         0.927809  0.072191   0.168435\n",
       "18456           0.0         0.014899  0.014899   0.168435"
      ]
     },
     "execution_count": 57,
     "metadata": {},
     "output_type": "execute_result"
    }
   ],
   "source": [
    "Team1_Score_predictor_seen = pd.DataFrame({ \"Actual_Score\": T1Y_train, \"Predicted_score\": T1Predict_train})\n",
    "Team1_Score_predictor_seen['Error']= abs(Team1_Score_predictor_seen.Predicted_score-Team1_Score_predictor_seen.Actual_Score)\n",
    "Team1_Score_predictor_seen['RMS_Error']= np.sqrt(((Team1_Score_predictor_seen.Predicted_score-Team1_Score_predictor_seen.Actual_Score)**2).mean())\n",
    "Team1_Score_predictor_seen.head()"
   ]
  },
  {
   "cell_type": "markdown",
   "metadata": {},
   "source": [
    "## Analysis of errors "
   ]
  },
  {
   "cell_type": "code",
   "execution_count": 67,
   "metadata": {},
   "outputs": [
    {
     "name": "stdout",
     "output_type": "stream",
     "text": [
      "Min Error on prediction of seen data for team 1 scores: 2.499741255590493e-05\n",
      "Max Error on prediction of seen data for team 1 scores: 1.9670997844090934\n",
      "Mean Error on prediction of seen data for team 1 scores: 0.10666286142508104\n"
     ]
    }
   ],
   "source": [
    "m=Team1_Score_predictor_seen['Error'].min()\n",
    "k=Team1_Score_predictor_seen['Error'].max()\n",
    "n=Team1_Score_predictor_seen['Error'].mean()\n",
    "print(f\"Min Error on prediction of seen data for team 1 scores: {m}\")\n",
    "print(f\"Max Error on prediction of seen data for team 1 scores: {k}\")\n",
    "print(f\"Mean Error on prediction of seen data for team 1 scores: {n}\")"
   ]
  },
  {
   "cell_type": "markdown",
   "metadata": {},
   "source": [
    "##  UNSEEN DATA (Test Set)\n",
    "I have chosen a team( team 1) and summarized the actual score, predicted score, the error that came up with linear regression and the root mean square error too. "
   ]
  },
  {
   "cell_type": "code",
   "execution_count": 59,
   "metadata": {},
   "outputs": [
    {
     "data": {
      "text/html": [
       "<div>\n",
       "<style scoped>\n",
       "    .dataframe tbody tr th:only-of-type {\n",
       "        vertical-align: middle;\n",
       "    }\n",
       "\n",
       "    .dataframe tbody tr th {\n",
       "        vertical-align: top;\n",
       "    }\n",
       "\n",
       "    .dataframe thead th {\n",
       "        text-align: right;\n",
       "    }\n",
       "</style>\n",
       "<table border=\"1\" class=\"dataframe\">\n",
       "  <thead>\n",
       "    <tr style=\"text-align: right;\">\n",
       "      <th></th>\n",
       "      <th>Actual_Score</th>\n",
       "      <th>Predicted_score</th>\n",
       "      <th>Error</th>\n",
       "      <th>RMS_Error</th>\n",
       "    </tr>\n",
       "  </thead>\n",
       "  <tbody>\n",
       "    <tr>\n",
       "      <th>700</th>\n",
       "      <td>3.0</td>\n",
       "      <td>3.100006</td>\n",
       "      <td>0.100006</td>\n",
       "      <td>0.174641</td>\n",
       "    </tr>\n",
       "    <tr>\n",
       "      <th>17213</th>\n",
       "      <td>2.0</td>\n",
       "      <td>2.146320</td>\n",
       "      <td>0.146320</td>\n",
       "      <td>0.174641</td>\n",
       "    </tr>\n",
       "    <tr>\n",
       "      <th>17376</th>\n",
       "      <td>3.0</td>\n",
       "      <td>3.141952</td>\n",
       "      <td>0.141952</td>\n",
       "      <td>0.174641</td>\n",
       "    </tr>\n",
       "    <tr>\n",
       "      <th>15318</th>\n",
       "      <td>1.0</td>\n",
       "      <td>1.093803</td>\n",
       "      <td>0.093803</td>\n",
       "      <td>0.174641</td>\n",
       "    </tr>\n",
       "    <tr>\n",
       "      <th>25988</th>\n",
       "      <td>2.0</td>\n",
       "      <td>2.138932</td>\n",
       "      <td>0.138932</td>\n",
       "      <td>0.174641</td>\n",
       "    </tr>\n",
       "  </tbody>\n",
       "</table>\n",
       "</div>"
      ],
      "text/plain": [
       "       Actual_Score  Predicted_score     Error  RMS_Error\n",
       "700             3.0         3.100006  0.100006   0.174641\n",
       "17213           2.0         2.146320  0.146320   0.174641\n",
       "17376           3.0         3.141952  0.141952   0.174641\n",
       "15318           1.0         1.093803  0.093803   0.174641\n",
       "25988           2.0         2.138932  0.138932   0.174641"
      ]
     },
     "execution_count": 59,
     "metadata": {},
     "output_type": "execute_result"
    }
   ],
   "source": [
    "Team1_Score_predictor_unseen = pd.DataFrame({ \"Actual_Score\": T1Y_test, \"Predicted_score\": T1Predict_test})\n",
    "Team1_Score_predictor_unseen['Error']= abs(Team1_Score_predictor_unseen.Predicted_score-Team1_Score_predictor_unseen.Actual_Score)\n",
    "Team1_Score_predictor_unseen['RMS_Error']= np.sqrt(((Team1_Score_predictor_unseen.Predicted_score-Team1_Score_predictor_unseen.Actual_Score)**2).mean())\n",
    "Team1_Score_predictor_unseen.head()"
   ]
  },
  {
   "cell_type": "markdown",
   "metadata": {},
   "source": [
    "## Analysis of errors "
   ]
  },
  {
   "cell_type": "code",
   "execution_count": 60,
   "metadata": {},
   "outputs": [
    {
     "name": "stdout",
     "output_type": "stream",
     "text": [
      "Min Error on prediction of unseen data for team 1 scores: 7.39587038012246e-06\n",
      "Max Error on prediction of unseen data for team 1 scores: 2.055267187256323\n",
      "Mean Error on prediction of unseen data for team 1 scores: 0.107465800088584\n"
     ]
    }
   ],
   "source": [
    "a=Team1_Score_predictor_unseen['Error'].min()\n",
    "b=Team1_Score_predictor_unseen['Error'].max()\n",
    "c=Team1_Score_predictor_unseen['Error'].mean()\n",
    "print(f\"Min Error on prediction of unseen data for team 1 scores: {a}\")\n",
    "print(f\"Max Error on prediction of unseen data for team 1 scores: {b}\")\n",
    "print(f\"Mean Error on prediction of unseen data for team 1 scores: {c}\")"
   ]
  },
  {
   "cell_type": "code",
   "execution_count": null,
   "metadata": {},
   "outputs": [],
   "source": []
  },
  {
   "cell_type": "code",
   "execution_count": null,
   "metadata": {},
   "outputs": [],
   "source": []
  }
 ],
 "metadata": {
  "kernelspec": {
   "display_name": "Python 3",
   "language": "python",
   "name": "python3"
  },
  "language_info": {
   "codemirror_mode": {
    "name": "ipython",
    "version": 3
   },
   "file_extension": ".py",
   "mimetype": "text/x-python",
   "name": "python",
   "nbconvert_exporter": "python",
   "pygments_lexer": "ipython3",
   "version": "3.7.3"
  }
 },
 "nbformat": 4,
 "nbformat_minor": 2
}
